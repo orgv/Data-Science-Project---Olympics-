{
 "cells": [
  {
   "cell_type": "code",
   "execution_count": 1,
   "metadata": {},
   "outputs": [],
   "source": [
    "import pandas as pd\n",
    "import numpy as np\n",
    "from sklearn import preprocessing\n",
    "from sklearn import metrics\n",
    "\n",
    "from sklearn.metrics import confusion_matrix\n",
    "from sklearn.metrics import precision_score,recall_score\n",
    "from sklearn.metrics import f1_score\n",
    "\n",
    "from sklearn.preprocessing import StandardScaler\n",
    "from sklearn.model_selection import train_test_split\n",
    "from sklearn.linear_model import LogisticRegression\n",
    "\n",
    "import seaborn as sns\n",
    "import matplotlib.pyplot as plt\n",
    "\n",
    "from sklearn.tree import DecisionTreeClassifier\n",
    "from sklearn.ensemble import RandomForestClassifier\n",
    "from sklearn.naive_bayes import GaussianNB\n",
    "\n",
    "pd.options.mode.chained_assignment = None  \n",
    "\n",
    "%matplotlib inline"
   ]
  },
  {
   "cell_type": "code",
   "execution_count": 2,
   "metadata": {},
   "outputs": [],
   "source": [
    "data_df = pd.read_csv(r\"D:\\Olympic Dataset\\updated_data.csv\",index_col=0)"
   ]
  },
  {
   "cell_type": "code",
   "execution_count": 3,
   "metadata": {},
   "outputs": [
    {
     "data": {
      "text/plain": [
       "206840"
      ]
     },
     "execution_count": 3,
     "metadata": {},
     "output_type": "execute_result"
    }
   ],
   "source": [
    "len(data_df)"
   ]
  },
  {
   "cell_type": "markdown",
   "metadata": {},
   "source": [
    "In order to gain high accuracy in our prediction, we will encode variables.<br/>\n",
    "We want to predict if an individual can win an olympic medal.<br/>"
   ]
  },
  {
   "cell_type": "code",
   "execution_count": 4,
   "metadata": {},
   "outputs": [
    {
     "data": {
      "text/html": [
       "<div>\n",
       "<style scoped>\n",
       "    .dataframe tbody tr th:only-of-type {\n",
       "        vertical-align: middle;\n",
       "    }\n",
       "\n",
       "    .dataframe tbody tr th {\n",
       "        vertical-align: top;\n",
       "    }\n",
       "\n",
       "    .dataframe thead th {\n",
       "        text-align: right;\n",
       "    }\n",
       "</style>\n",
       "<table border=\"1\" class=\"dataframe\">\n",
       "  <thead>\n",
       "    <tr style=\"text-align: right;\">\n",
       "      <th></th>\n",
       "      <th>Name</th>\n",
       "      <th>Sex</th>\n",
       "      <th>Age</th>\n",
       "      <th>Height</th>\n",
       "      <th>Weight</th>\n",
       "      <th>Team</th>\n",
       "      <th>NOC</th>\n",
       "      <th>Games</th>\n",
       "      <th>Year</th>\n",
       "      <th>Season</th>\n",
       "      <th>City</th>\n",
       "      <th>Sport</th>\n",
       "      <th>Event</th>\n",
       "      <th>Medal</th>\n",
       "    </tr>\n",
       "  </thead>\n",
       "  <tbody>\n",
       "    <tr>\n",
       "      <th>0</th>\n",
       "      <td>Robert \"Bob\" Garrett</td>\n",
       "      <td>M</td>\n",
       "      <td>20.0</td>\n",
       "      <td>188.0</td>\n",
       "      <td>81.0</td>\n",
       "      <td>United States</td>\n",
       "      <td>USA</td>\n",
       "      <td>1896 Summer</td>\n",
       "      <td>1896</td>\n",
       "      <td>Summer</td>\n",
       "      <td>Athens</td>\n",
       "      <td>Athletics</td>\n",
       "      <td>Athletics Men's Long Jump</td>\n",
       "      <td>Silver</td>\n",
       "    </tr>\n",
       "    <tr>\n",
       "      <th>1</th>\n",
       "      <td>Robert \"Bob\" Garrett</td>\n",
       "      <td>M</td>\n",
       "      <td>20.0</td>\n",
       "      <td>188.0</td>\n",
       "      <td>81.0</td>\n",
       "      <td>United States</td>\n",
       "      <td>USA</td>\n",
       "      <td>1896 Summer</td>\n",
       "      <td>1896</td>\n",
       "      <td>Summer</td>\n",
       "      <td>Athens</td>\n",
       "      <td>Athletics</td>\n",
       "      <td>Athletics Men's Discus Throw</td>\n",
       "      <td>Gold</td>\n",
       "    </tr>\n",
       "    <tr>\n",
       "      <th>2</th>\n",
       "      <td>Robert \"Bob\" Garrett</td>\n",
       "      <td>M</td>\n",
       "      <td>20.0</td>\n",
       "      <td>188.0</td>\n",
       "      <td>81.0</td>\n",
       "      <td>United States</td>\n",
       "      <td>USA</td>\n",
       "      <td>1896 Summer</td>\n",
       "      <td>1896</td>\n",
       "      <td>Summer</td>\n",
       "      <td>Athens</td>\n",
       "      <td>Athletics</td>\n",
       "      <td>Athletics Men's Shot Put</td>\n",
       "      <td>Gold</td>\n",
       "    </tr>\n",
       "    <tr>\n",
       "      <th>3</th>\n",
       "      <td>Robert \"Bob\" Garrett</td>\n",
       "      <td>M</td>\n",
       "      <td>20.0</td>\n",
       "      <td>188.0</td>\n",
       "      <td>81.0</td>\n",
       "      <td>United States</td>\n",
       "      <td>USA</td>\n",
       "      <td>1896 Summer</td>\n",
       "      <td>1896</td>\n",
       "      <td>Summer</td>\n",
       "      <td>Athens</td>\n",
       "      <td>Athletics</td>\n",
       "      <td>Athletics Men's High Jump</td>\n",
       "      <td>Silver</td>\n",
       "    </tr>\n",
       "    <tr>\n",
       "      <th>4</th>\n",
       "      <td>Launceston Elliot</td>\n",
       "      <td>M</td>\n",
       "      <td>21.0</td>\n",
       "      <td>188.0</td>\n",
       "      <td>102.0</td>\n",
       "      <td>Great Britain</td>\n",
       "      <td>GBR</td>\n",
       "      <td>1896 Summer</td>\n",
       "      <td>1896</td>\n",
       "      <td>Summer</td>\n",
       "      <td>Athens</td>\n",
       "      <td>Wrestling</td>\n",
       "      <td>Wrestling Men's Unlimited Class, Greco-Roman</td>\n",
       "      <td>No Medal</td>\n",
       "    </tr>\n",
       "  </tbody>\n",
       "</table>\n",
       "</div>"
      ],
      "text/plain": [
       "                   Name Sex   Age  Height  Weight           Team  NOC  \\\n",
       "0  Robert \"Bob\" Garrett   M  20.0   188.0    81.0  United States  USA   \n",
       "1  Robert \"Bob\" Garrett   M  20.0   188.0    81.0  United States  USA   \n",
       "2  Robert \"Bob\" Garrett   M  20.0   188.0    81.0  United States  USA   \n",
       "3  Robert \"Bob\" Garrett   M  20.0   188.0    81.0  United States  USA   \n",
       "4     Launceston Elliot   M  21.0   188.0   102.0  Great Britain  GBR   \n",
       "\n",
       "         Games  Year  Season    City      Sport  \\\n",
       "0  1896 Summer  1896  Summer  Athens  Athletics   \n",
       "1  1896 Summer  1896  Summer  Athens  Athletics   \n",
       "2  1896 Summer  1896  Summer  Athens  Athletics   \n",
       "3  1896 Summer  1896  Summer  Athens  Athletics   \n",
       "4  1896 Summer  1896  Summer  Athens  Wrestling   \n",
       "\n",
       "                                          Event     Medal  \n",
       "0                     Athletics Men's Long Jump    Silver  \n",
       "1                  Athletics Men's Discus Throw      Gold  \n",
       "2                      Athletics Men's Shot Put      Gold  \n",
       "3                     Athletics Men's High Jump    Silver  \n",
       "4  Wrestling Men's Unlimited Class, Greco-Roman  No Medal  "
      ]
     },
     "execution_count": 4,
     "metadata": {},
     "output_type": "execute_result"
    }
   ],
   "source": [
    "data_df.head(5)"
   ]
  },
  {
   "cell_type": "markdown",
   "metadata": {},
   "source": [
    "First, we will encode the medals by:<br/>\n",
    "-     Have medal = 1\n",
    "-     Does not have medal = 0\n",
    "    "
   ]
  },
  {
   "cell_type": "code",
   "execution_count": 5,
   "metadata": {},
   "outputs": [],
   "source": [
    "df2 = data_df.replace({'Gold':1,'Silver':1,'Bronze':1,'No Medal':0})"
   ]
  },
  {
   "cell_type": "code",
   "execution_count": 6,
   "metadata": {},
   "outputs": [
    {
     "data": {
      "text/html": [
       "<div>\n",
       "<style scoped>\n",
       "    .dataframe tbody tr th:only-of-type {\n",
       "        vertical-align: middle;\n",
       "    }\n",
       "\n",
       "    .dataframe tbody tr th {\n",
       "        vertical-align: top;\n",
       "    }\n",
       "\n",
       "    .dataframe thead th {\n",
       "        text-align: right;\n",
       "    }\n",
       "</style>\n",
       "<table border=\"1\" class=\"dataframe\">\n",
       "  <thead>\n",
       "    <tr style=\"text-align: right;\">\n",
       "      <th></th>\n",
       "      <th>Name</th>\n",
       "      <th>Sex</th>\n",
       "      <th>Age</th>\n",
       "      <th>Height</th>\n",
       "      <th>Weight</th>\n",
       "      <th>Team</th>\n",
       "      <th>NOC</th>\n",
       "      <th>Games</th>\n",
       "      <th>Year</th>\n",
       "      <th>Season</th>\n",
       "      <th>City</th>\n",
       "      <th>Sport</th>\n",
       "      <th>Event</th>\n",
       "      <th>Medal</th>\n",
       "    </tr>\n",
       "  </thead>\n",
       "  <tbody>\n",
       "    <tr>\n",
       "      <th>0</th>\n",
       "      <td>Robert \"Bob\" Garrett</td>\n",
       "      <td>M</td>\n",
       "      <td>20.0</td>\n",
       "      <td>188.0</td>\n",
       "      <td>81.0</td>\n",
       "      <td>United States</td>\n",
       "      <td>USA</td>\n",
       "      <td>1896 Summer</td>\n",
       "      <td>1896</td>\n",
       "      <td>Summer</td>\n",
       "      <td>Athens</td>\n",
       "      <td>Athletics</td>\n",
       "      <td>Athletics Men's Long Jump</td>\n",
       "      <td>1</td>\n",
       "    </tr>\n",
       "    <tr>\n",
       "      <th>1</th>\n",
       "      <td>Robert \"Bob\" Garrett</td>\n",
       "      <td>M</td>\n",
       "      <td>20.0</td>\n",
       "      <td>188.0</td>\n",
       "      <td>81.0</td>\n",
       "      <td>United States</td>\n",
       "      <td>USA</td>\n",
       "      <td>1896 Summer</td>\n",
       "      <td>1896</td>\n",
       "      <td>Summer</td>\n",
       "      <td>Athens</td>\n",
       "      <td>Athletics</td>\n",
       "      <td>Athletics Men's Discus Throw</td>\n",
       "      <td>1</td>\n",
       "    </tr>\n",
       "    <tr>\n",
       "      <th>2</th>\n",
       "      <td>Robert \"Bob\" Garrett</td>\n",
       "      <td>M</td>\n",
       "      <td>20.0</td>\n",
       "      <td>188.0</td>\n",
       "      <td>81.0</td>\n",
       "      <td>United States</td>\n",
       "      <td>USA</td>\n",
       "      <td>1896 Summer</td>\n",
       "      <td>1896</td>\n",
       "      <td>Summer</td>\n",
       "      <td>Athens</td>\n",
       "      <td>Athletics</td>\n",
       "      <td>Athletics Men's Shot Put</td>\n",
       "      <td>1</td>\n",
       "    </tr>\n",
       "    <tr>\n",
       "      <th>3</th>\n",
       "      <td>Robert \"Bob\" Garrett</td>\n",
       "      <td>M</td>\n",
       "      <td>20.0</td>\n",
       "      <td>188.0</td>\n",
       "      <td>81.0</td>\n",
       "      <td>United States</td>\n",
       "      <td>USA</td>\n",
       "      <td>1896 Summer</td>\n",
       "      <td>1896</td>\n",
       "      <td>Summer</td>\n",
       "      <td>Athens</td>\n",
       "      <td>Athletics</td>\n",
       "      <td>Athletics Men's High Jump</td>\n",
       "      <td>1</td>\n",
       "    </tr>\n",
       "    <tr>\n",
       "      <th>4</th>\n",
       "      <td>Launceston Elliot</td>\n",
       "      <td>M</td>\n",
       "      <td>21.0</td>\n",
       "      <td>188.0</td>\n",
       "      <td>102.0</td>\n",
       "      <td>Great Britain</td>\n",
       "      <td>GBR</td>\n",
       "      <td>1896 Summer</td>\n",
       "      <td>1896</td>\n",
       "      <td>Summer</td>\n",
       "      <td>Athens</td>\n",
       "      <td>Wrestling</td>\n",
       "      <td>Wrestling Men's Unlimited Class, Greco-Roman</td>\n",
       "      <td>0</td>\n",
       "    </tr>\n",
       "  </tbody>\n",
       "</table>\n",
       "</div>"
      ],
      "text/plain": [
       "                   Name Sex   Age  Height  Weight           Team  NOC  \\\n",
       "0  Robert \"Bob\" Garrett   M  20.0   188.0    81.0  United States  USA   \n",
       "1  Robert \"Bob\" Garrett   M  20.0   188.0    81.0  United States  USA   \n",
       "2  Robert \"Bob\" Garrett   M  20.0   188.0    81.0  United States  USA   \n",
       "3  Robert \"Bob\" Garrett   M  20.0   188.0    81.0  United States  USA   \n",
       "4     Launceston Elliot   M  21.0   188.0   102.0  Great Britain  GBR   \n",
       "\n",
       "         Games  Year  Season    City      Sport  \\\n",
       "0  1896 Summer  1896  Summer  Athens  Athletics   \n",
       "1  1896 Summer  1896  Summer  Athens  Athletics   \n",
       "2  1896 Summer  1896  Summer  Athens  Athletics   \n",
       "3  1896 Summer  1896  Summer  Athens  Athletics   \n",
       "4  1896 Summer  1896  Summer  Athens  Wrestling   \n",
       "\n",
       "                                          Event  Medal  \n",
       "0                     Athletics Men's Long Jump      1  \n",
       "1                  Athletics Men's Discus Throw      1  \n",
       "2                      Athletics Men's Shot Put      1  \n",
       "3                     Athletics Men's High Jump      1  \n",
       "4  Wrestling Men's Unlimited Class, Greco-Roman      0  "
      ]
     },
     "execution_count": 6,
     "metadata": {},
     "output_type": "execute_result"
    }
   ],
   "source": [
    "df2.head(5)"
   ]
  },
  {
   "cell_type": "markdown",
   "metadata": {},
   "source": [
    "Next, we will encode the seasons by: <br/>\n",
    "-     Summer = 1\n",
    "-     Winter = 0"
   ]
  },
  {
   "cell_type": "code",
   "execution_count": 7,
   "metadata": {},
   "outputs": [],
   "source": [
    "df2.replace({'Summer':1,'Winter':0},inplace=True)"
   ]
  },
  {
   "cell_type": "code",
   "execution_count": 8,
   "metadata": {},
   "outputs": [
    {
     "data": {
      "text/html": [
       "<div>\n",
       "<style scoped>\n",
       "    .dataframe tbody tr th:only-of-type {\n",
       "        vertical-align: middle;\n",
       "    }\n",
       "\n",
       "    .dataframe tbody tr th {\n",
       "        vertical-align: top;\n",
       "    }\n",
       "\n",
       "    .dataframe thead th {\n",
       "        text-align: right;\n",
       "    }\n",
       "</style>\n",
       "<table border=\"1\" class=\"dataframe\">\n",
       "  <thead>\n",
       "    <tr style=\"text-align: right;\">\n",
       "      <th></th>\n",
       "      <th>Name</th>\n",
       "      <th>Sex</th>\n",
       "      <th>Age</th>\n",
       "      <th>Height</th>\n",
       "      <th>Weight</th>\n",
       "      <th>Team</th>\n",
       "      <th>NOC</th>\n",
       "      <th>Games</th>\n",
       "      <th>Year</th>\n",
       "      <th>Season</th>\n",
       "      <th>City</th>\n",
       "      <th>Sport</th>\n",
       "      <th>Event</th>\n",
       "      <th>Medal</th>\n",
       "    </tr>\n",
       "  </thead>\n",
       "  <tbody>\n",
       "    <tr>\n",
       "      <th>0</th>\n",
       "      <td>Robert \"Bob\" Garrett</td>\n",
       "      <td>M</td>\n",
       "      <td>20.0</td>\n",
       "      <td>188.0</td>\n",
       "      <td>81.0</td>\n",
       "      <td>United States</td>\n",
       "      <td>USA</td>\n",
       "      <td>1896 Summer</td>\n",
       "      <td>1896</td>\n",
       "      <td>1</td>\n",
       "      <td>Athens</td>\n",
       "      <td>Athletics</td>\n",
       "      <td>Athletics Men's Long Jump</td>\n",
       "      <td>1</td>\n",
       "    </tr>\n",
       "    <tr>\n",
       "      <th>1</th>\n",
       "      <td>Robert \"Bob\" Garrett</td>\n",
       "      <td>M</td>\n",
       "      <td>20.0</td>\n",
       "      <td>188.0</td>\n",
       "      <td>81.0</td>\n",
       "      <td>United States</td>\n",
       "      <td>USA</td>\n",
       "      <td>1896 Summer</td>\n",
       "      <td>1896</td>\n",
       "      <td>1</td>\n",
       "      <td>Athens</td>\n",
       "      <td>Athletics</td>\n",
       "      <td>Athletics Men's Discus Throw</td>\n",
       "      <td>1</td>\n",
       "    </tr>\n",
       "    <tr>\n",
       "      <th>2</th>\n",
       "      <td>Robert \"Bob\" Garrett</td>\n",
       "      <td>M</td>\n",
       "      <td>20.0</td>\n",
       "      <td>188.0</td>\n",
       "      <td>81.0</td>\n",
       "      <td>United States</td>\n",
       "      <td>USA</td>\n",
       "      <td>1896 Summer</td>\n",
       "      <td>1896</td>\n",
       "      <td>1</td>\n",
       "      <td>Athens</td>\n",
       "      <td>Athletics</td>\n",
       "      <td>Athletics Men's Shot Put</td>\n",
       "      <td>1</td>\n",
       "    </tr>\n",
       "    <tr>\n",
       "      <th>3</th>\n",
       "      <td>Robert \"Bob\" Garrett</td>\n",
       "      <td>M</td>\n",
       "      <td>20.0</td>\n",
       "      <td>188.0</td>\n",
       "      <td>81.0</td>\n",
       "      <td>United States</td>\n",
       "      <td>USA</td>\n",
       "      <td>1896 Summer</td>\n",
       "      <td>1896</td>\n",
       "      <td>1</td>\n",
       "      <td>Athens</td>\n",
       "      <td>Athletics</td>\n",
       "      <td>Athletics Men's High Jump</td>\n",
       "      <td>1</td>\n",
       "    </tr>\n",
       "    <tr>\n",
       "      <th>4</th>\n",
       "      <td>Launceston Elliot</td>\n",
       "      <td>M</td>\n",
       "      <td>21.0</td>\n",
       "      <td>188.0</td>\n",
       "      <td>102.0</td>\n",
       "      <td>Great Britain</td>\n",
       "      <td>GBR</td>\n",
       "      <td>1896 Summer</td>\n",
       "      <td>1896</td>\n",
       "      <td>1</td>\n",
       "      <td>Athens</td>\n",
       "      <td>Wrestling</td>\n",
       "      <td>Wrestling Men's Unlimited Class, Greco-Roman</td>\n",
       "      <td>0</td>\n",
       "    </tr>\n",
       "  </tbody>\n",
       "</table>\n",
       "</div>"
      ],
      "text/plain": [
       "                   Name Sex   Age  Height  Weight           Team  NOC  \\\n",
       "0  Robert \"Bob\" Garrett   M  20.0   188.0    81.0  United States  USA   \n",
       "1  Robert \"Bob\" Garrett   M  20.0   188.0    81.0  United States  USA   \n",
       "2  Robert \"Bob\" Garrett   M  20.0   188.0    81.0  United States  USA   \n",
       "3  Robert \"Bob\" Garrett   M  20.0   188.0    81.0  United States  USA   \n",
       "4     Launceston Elliot   M  21.0   188.0   102.0  Great Britain  GBR   \n",
       "\n",
       "         Games  Year  Season    City      Sport  \\\n",
       "0  1896 Summer  1896       1  Athens  Athletics   \n",
       "1  1896 Summer  1896       1  Athens  Athletics   \n",
       "2  1896 Summer  1896       1  Athens  Athletics   \n",
       "3  1896 Summer  1896       1  Athens  Athletics   \n",
       "4  1896 Summer  1896       1  Athens  Wrestling   \n",
       "\n",
       "                                          Event  Medal  \n",
       "0                     Athletics Men's Long Jump      1  \n",
       "1                  Athletics Men's Discus Throw      1  \n",
       "2                      Athletics Men's Shot Put      1  \n",
       "3                     Athletics Men's High Jump      1  \n",
       "4  Wrestling Men's Unlimited Class, Greco-Roman      0  "
      ]
     },
     "execution_count": 8,
     "metadata": {},
     "output_type": "execute_result"
    }
   ],
   "source": [
    "df2.head(5)"
   ]
  },
  {
   "cell_type": "markdown",
   "metadata": {},
   "source": [
    "Now, we will encode the genders by: <br/>\n",
    "-     Male = 1\n",
    "-     Female = 0"
   ]
  },
  {
   "cell_type": "code",
   "execution_count": 9,
   "metadata": {},
   "outputs": [],
   "source": [
    "df2.replace({'M':1,'F':0},inplace=True)"
   ]
  },
  {
   "cell_type": "code",
   "execution_count": 10,
   "metadata": {},
   "outputs": [
    {
     "data": {
      "text/html": [
       "<div>\n",
       "<style scoped>\n",
       "    .dataframe tbody tr th:only-of-type {\n",
       "        vertical-align: middle;\n",
       "    }\n",
       "\n",
       "    .dataframe tbody tr th {\n",
       "        vertical-align: top;\n",
       "    }\n",
       "\n",
       "    .dataframe thead th {\n",
       "        text-align: right;\n",
       "    }\n",
       "</style>\n",
       "<table border=\"1\" class=\"dataframe\">\n",
       "  <thead>\n",
       "    <tr style=\"text-align: right;\">\n",
       "      <th></th>\n",
       "      <th>Name</th>\n",
       "      <th>Sex</th>\n",
       "      <th>Age</th>\n",
       "      <th>Height</th>\n",
       "      <th>Weight</th>\n",
       "      <th>Team</th>\n",
       "      <th>NOC</th>\n",
       "      <th>Games</th>\n",
       "      <th>Year</th>\n",
       "      <th>Season</th>\n",
       "      <th>City</th>\n",
       "      <th>Sport</th>\n",
       "      <th>Event</th>\n",
       "      <th>Medal</th>\n",
       "    </tr>\n",
       "  </thead>\n",
       "  <tbody>\n",
       "    <tr>\n",
       "      <th>0</th>\n",
       "      <td>Robert \"Bob\" Garrett</td>\n",
       "      <td>1</td>\n",
       "      <td>20.0</td>\n",
       "      <td>188.0</td>\n",
       "      <td>81.0</td>\n",
       "      <td>United States</td>\n",
       "      <td>USA</td>\n",
       "      <td>1896 Summer</td>\n",
       "      <td>1896</td>\n",
       "      <td>1</td>\n",
       "      <td>Athens</td>\n",
       "      <td>Athletics</td>\n",
       "      <td>Athletics Men's Long Jump</td>\n",
       "      <td>1</td>\n",
       "    </tr>\n",
       "    <tr>\n",
       "      <th>1</th>\n",
       "      <td>Robert \"Bob\" Garrett</td>\n",
       "      <td>1</td>\n",
       "      <td>20.0</td>\n",
       "      <td>188.0</td>\n",
       "      <td>81.0</td>\n",
       "      <td>United States</td>\n",
       "      <td>USA</td>\n",
       "      <td>1896 Summer</td>\n",
       "      <td>1896</td>\n",
       "      <td>1</td>\n",
       "      <td>Athens</td>\n",
       "      <td>Athletics</td>\n",
       "      <td>Athletics Men's Discus Throw</td>\n",
       "      <td>1</td>\n",
       "    </tr>\n",
       "    <tr>\n",
       "      <th>2</th>\n",
       "      <td>Robert \"Bob\" Garrett</td>\n",
       "      <td>1</td>\n",
       "      <td>20.0</td>\n",
       "      <td>188.0</td>\n",
       "      <td>81.0</td>\n",
       "      <td>United States</td>\n",
       "      <td>USA</td>\n",
       "      <td>1896 Summer</td>\n",
       "      <td>1896</td>\n",
       "      <td>1</td>\n",
       "      <td>Athens</td>\n",
       "      <td>Athletics</td>\n",
       "      <td>Athletics Men's Shot Put</td>\n",
       "      <td>1</td>\n",
       "    </tr>\n",
       "    <tr>\n",
       "      <th>3</th>\n",
       "      <td>Robert \"Bob\" Garrett</td>\n",
       "      <td>1</td>\n",
       "      <td>20.0</td>\n",
       "      <td>188.0</td>\n",
       "      <td>81.0</td>\n",
       "      <td>United States</td>\n",
       "      <td>USA</td>\n",
       "      <td>1896 Summer</td>\n",
       "      <td>1896</td>\n",
       "      <td>1</td>\n",
       "      <td>Athens</td>\n",
       "      <td>Athletics</td>\n",
       "      <td>Athletics Men's High Jump</td>\n",
       "      <td>1</td>\n",
       "    </tr>\n",
       "    <tr>\n",
       "      <th>4</th>\n",
       "      <td>Launceston Elliot</td>\n",
       "      <td>1</td>\n",
       "      <td>21.0</td>\n",
       "      <td>188.0</td>\n",
       "      <td>102.0</td>\n",
       "      <td>Great Britain</td>\n",
       "      <td>GBR</td>\n",
       "      <td>1896 Summer</td>\n",
       "      <td>1896</td>\n",
       "      <td>1</td>\n",
       "      <td>Athens</td>\n",
       "      <td>Wrestling</td>\n",
       "      <td>Wrestling Men's Unlimited Class, Greco-Roman</td>\n",
       "      <td>0</td>\n",
       "    </tr>\n",
       "  </tbody>\n",
       "</table>\n",
       "</div>"
      ],
      "text/plain": [
       "                   Name  Sex   Age  Height  Weight           Team  NOC  \\\n",
       "0  Robert \"Bob\" Garrett    1  20.0   188.0    81.0  United States  USA   \n",
       "1  Robert \"Bob\" Garrett    1  20.0   188.0    81.0  United States  USA   \n",
       "2  Robert \"Bob\" Garrett    1  20.0   188.0    81.0  United States  USA   \n",
       "3  Robert \"Bob\" Garrett    1  20.0   188.0    81.0  United States  USA   \n",
       "4     Launceston Elliot    1  21.0   188.0   102.0  Great Britain  GBR   \n",
       "\n",
       "         Games  Year  Season    City      Sport  \\\n",
       "0  1896 Summer  1896       1  Athens  Athletics   \n",
       "1  1896 Summer  1896       1  Athens  Athletics   \n",
       "2  1896 Summer  1896       1  Athens  Athletics   \n",
       "3  1896 Summer  1896       1  Athens  Athletics   \n",
       "4  1896 Summer  1896       1  Athens  Wrestling   \n",
       "\n",
       "                                          Event  Medal  \n",
       "0                     Athletics Men's Long Jump      1  \n",
       "1                  Athletics Men's Discus Throw      1  \n",
       "2                      Athletics Men's Shot Put      1  \n",
       "3                     Athletics Men's High Jump      1  \n",
       "4  Wrestling Men's Unlimited Class, Greco-Roman      0  "
      ]
     },
     "execution_count": 10,
     "metadata": {},
     "output_type": "execute_result"
    }
   ],
   "source": [
    "df2.head(5)"
   ]
  },
  {
   "cell_type": "markdown",
   "metadata": {},
   "source": [
    "## Feature Selection"
   ]
  },
  {
   "cell_type": "markdown",
   "metadata": {},
   "source": [
    "The games column is essentially consisted of both the year and the season columns.<br/>\n",
    "Therefore, we will drop it."
   ]
  },
  {
   "cell_type": "code",
   "execution_count": 11,
   "metadata": {},
   "outputs": [],
   "source": [
    "new_df = df2.drop(columns=['Games'])"
   ]
  },
  {
   "cell_type": "code",
   "execution_count": 12,
   "metadata": {
    "scrolled": true
   },
   "outputs": [
    {
     "data": {
      "text/html": [
       "<div>\n",
       "<style scoped>\n",
       "    .dataframe tbody tr th:only-of-type {\n",
       "        vertical-align: middle;\n",
       "    }\n",
       "\n",
       "    .dataframe tbody tr th {\n",
       "        vertical-align: top;\n",
       "    }\n",
       "\n",
       "    .dataframe thead th {\n",
       "        text-align: right;\n",
       "    }\n",
       "</style>\n",
       "<table border=\"1\" class=\"dataframe\">\n",
       "  <thead>\n",
       "    <tr style=\"text-align: right;\">\n",
       "      <th></th>\n",
       "      <th>Name</th>\n",
       "      <th>Sex</th>\n",
       "      <th>Age</th>\n",
       "      <th>Height</th>\n",
       "      <th>Weight</th>\n",
       "      <th>Team</th>\n",
       "      <th>NOC</th>\n",
       "      <th>Year</th>\n",
       "      <th>Season</th>\n",
       "      <th>City</th>\n",
       "      <th>Sport</th>\n",
       "      <th>Event</th>\n",
       "      <th>Medal</th>\n",
       "    </tr>\n",
       "  </thead>\n",
       "  <tbody>\n",
       "    <tr>\n",
       "      <th>0</th>\n",
       "      <td>Robert \"Bob\" Garrett</td>\n",
       "      <td>1</td>\n",
       "      <td>20.0</td>\n",
       "      <td>188.0</td>\n",
       "      <td>81.0</td>\n",
       "      <td>United States</td>\n",
       "      <td>USA</td>\n",
       "      <td>1896</td>\n",
       "      <td>1</td>\n",
       "      <td>Athens</td>\n",
       "      <td>Athletics</td>\n",
       "      <td>Athletics Men's Long Jump</td>\n",
       "      <td>1</td>\n",
       "    </tr>\n",
       "    <tr>\n",
       "      <th>1</th>\n",
       "      <td>Robert \"Bob\" Garrett</td>\n",
       "      <td>1</td>\n",
       "      <td>20.0</td>\n",
       "      <td>188.0</td>\n",
       "      <td>81.0</td>\n",
       "      <td>United States</td>\n",
       "      <td>USA</td>\n",
       "      <td>1896</td>\n",
       "      <td>1</td>\n",
       "      <td>Athens</td>\n",
       "      <td>Athletics</td>\n",
       "      <td>Athletics Men's Discus Throw</td>\n",
       "      <td>1</td>\n",
       "    </tr>\n",
       "    <tr>\n",
       "      <th>2</th>\n",
       "      <td>Robert \"Bob\" Garrett</td>\n",
       "      <td>1</td>\n",
       "      <td>20.0</td>\n",
       "      <td>188.0</td>\n",
       "      <td>81.0</td>\n",
       "      <td>United States</td>\n",
       "      <td>USA</td>\n",
       "      <td>1896</td>\n",
       "      <td>1</td>\n",
       "      <td>Athens</td>\n",
       "      <td>Athletics</td>\n",
       "      <td>Athletics Men's Shot Put</td>\n",
       "      <td>1</td>\n",
       "    </tr>\n",
       "    <tr>\n",
       "      <th>3</th>\n",
       "      <td>Robert \"Bob\" Garrett</td>\n",
       "      <td>1</td>\n",
       "      <td>20.0</td>\n",
       "      <td>188.0</td>\n",
       "      <td>81.0</td>\n",
       "      <td>United States</td>\n",
       "      <td>USA</td>\n",
       "      <td>1896</td>\n",
       "      <td>1</td>\n",
       "      <td>Athens</td>\n",
       "      <td>Athletics</td>\n",
       "      <td>Athletics Men's High Jump</td>\n",
       "      <td>1</td>\n",
       "    </tr>\n",
       "    <tr>\n",
       "      <th>4</th>\n",
       "      <td>Launceston Elliot</td>\n",
       "      <td>1</td>\n",
       "      <td>21.0</td>\n",
       "      <td>188.0</td>\n",
       "      <td>102.0</td>\n",
       "      <td>Great Britain</td>\n",
       "      <td>GBR</td>\n",
       "      <td>1896</td>\n",
       "      <td>1</td>\n",
       "      <td>Athens</td>\n",
       "      <td>Wrestling</td>\n",
       "      <td>Wrestling Men's Unlimited Class, Greco-Roman</td>\n",
       "      <td>0</td>\n",
       "    </tr>\n",
       "  </tbody>\n",
       "</table>\n",
       "</div>"
      ],
      "text/plain": [
       "                   Name  Sex   Age  Height  Weight           Team  NOC  Year  \\\n",
       "0  Robert \"Bob\" Garrett    1  20.0   188.0    81.0  United States  USA  1896   \n",
       "1  Robert \"Bob\" Garrett    1  20.0   188.0    81.0  United States  USA  1896   \n",
       "2  Robert \"Bob\" Garrett    1  20.0   188.0    81.0  United States  USA  1896   \n",
       "3  Robert \"Bob\" Garrett    1  20.0   188.0    81.0  United States  USA  1896   \n",
       "4     Launceston Elliot    1  21.0   188.0   102.0  Great Britain  GBR  1896   \n",
       "\n",
       "   Season    City      Sport                                         Event  \\\n",
       "0       1  Athens  Athletics                     Athletics Men's Long Jump   \n",
       "1       1  Athens  Athletics                  Athletics Men's Discus Throw   \n",
       "2       1  Athens  Athletics                      Athletics Men's Shot Put   \n",
       "3       1  Athens  Athletics                     Athletics Men's High Jump   \n",
       "4       1  Athens  Wrestling  Wrestling Men's Unlimited Class, Greco-Roman   \n",
       "\n",
       "   Medal  \n",
       "0      1  \n",
       "1      1  \n",
       "2      1  \n",
       "3      1  \n",
       "4      0  "
      ]
     },
     "execution_count": 12,
     "metadata": {},
     "output_type": "execute_result"
    }
   ],
   "source": [
    "new_df.head(5)"
   ]
  },
  {
   "cell_type": "code",
   "execution_count": 13,
   "metadata": {},
   "outputs": [
    {
     "name": "stdout",
     "output_type": "stream",
     "text": [
      "35\n",
      "28\n",
      "56\n",
      "590\n",
      "226\n",
      "660\n"
     ]
    }
   ],
   "source": [
    "print(len(new_df['Year'].unique()))\n",
    "print(len(new_df['Age'].unique()))\n",
    "print(len(new_df['Sport'].unique()))\n",
    "print(len(new_df['Event'].unique()))\n",
    "print(len(new_df['NOC'].unique()))\n",
    "print(len(new_df['Team'].unique()))"
   ]
  },
  {
   "cell_type": "markdown",
   "metadata": {},
   "source": [
    "We will drop irrelevant columns:"
   ]
  },
  {
   "cell_type": "code",
   "execution_count": 14,
   "metadata": {},
   "outputs": [],
   "source": [
    "new_df2 = new_df.drop(columns=['Name','NOC','Team','City','Event'])"
   ]
  },
  {
   "cell_type": "code",
   "execution_count": 15,
   "metadata": {},
   "outputs": [
    {
     "data": {
      "text/html": [
       "<div>\n",
       "<style scoped>\n",
       "    .dataframe tbody tr th:only-of-type {\n",
       "        vertical-align: middle;\n",
       "    }\n",
       "\n",
       "    .dataframe tbody tr th {\n",
       "        vertical-align: top;\n",
       "    }\n",
       "\n",
       "    .dataframe thead th {\n",
       "        text-align: right;\n",
       "    }\n",
       "</style>\n",
       "<table border=\"1\" class=\"dataframe\">\n",
       "  <thead>\n",
       "    <tr style=\"text-align: right;\">\n",
       "      <th></th>\n",
       "      <th>Sex</th>\n",
       "      <th>Age</th>\n",
       "      <th>Height</th>\n",
       "      <th>Weight</th>\n",
       "      <th>Year</th>\n",
       "      <th>Season</th>\n",
       "      <th>Sport</th>\n",
       "      <th>Medal</th>\n",
       "    </tr>\n",
       "  </thead>\n",
       "  <tbody>\n",
       "    <tr>\n",
       "      <th>0</th>\n",
       "      <td>1</td>\n",
       "      <td>20.0</td>\n",
       "      <td>188.0</td>\n",
       "      <td>81.0</td>\n",
       "      <td>1896</td>\n",
       "      <td>1</td>\n",
       "      <td>Athletics</td>\n",
       "      <td>1</td>\n",
       "    </tr>\n",
       "    <tr>\n",
       "      <th>1</th>\n",
       "      <td>1</td>\n",
       "      <td>20.0</td>\n",
       "      <td>188.0</td>\n",
       "      <td>81.0</td>\n",
       "      <td>1896</td>\n",
       "      <td>1</td>\n",
       "      <td>Athletics</td>\n",
       "      <td>1</td>\n",
       "    </tr>\n",
       "    <tr>\n",
       "      <th>2</th>\n",
       "      <td>1</td>\n",
       "      <td>20.0</td>\n",
       "      <td>188.0</td>\n",
       "      <td>81.0</td>\n",
       "      <td>1896</td>\n",
       "      <td>1</td>\n",
       "      <td>Athletics</td>\n",
       "      <td>1</td>\n",
       "    </tr>\n",
       "    <tr>\n",
       "      <th>3</th>\n",
       "      <td>1</td>\n",
       "      <td>20.0</td>\n",
       "      <td>188.0</td>\n",
       "      <td>81.0</td>\n",
       "      <td>1896</td>\n",
       "      <td>1</td>\n",
       "      <td>Athletics</td>\n",
       "      <td>1</td>\n",
       "    </tr>\n",
       "    <tr>\n",
       "      <th>4</th>\n",
       "      <td>1</td>\n",
       "      <td>21.0</td>\n",
       "      <td>188.0</td>\n",
       "      <td>102.0</td>\n",
       "      <td>1896</td>\n",
       "      <td>1</td>\n",
       "      <td>Wrestling</td>\n",
       "      <td>0</td>\n",
       "    </tr>\n",
       "  </tbody>\n",
       "</table>\n",
       "</div>"
      ],
      "text/plain": [
       "   Sex   Age  Height  Weight  Year  Season      Sport  Medal\n",
       "0    1  20.0   188.0    81.0  1896       1  Athletics      1\n",
       "1    1  20.0   188.0    81.0  1896       1  Athletics      1\n",
       "2    1  20.0   188.0    81.0  1896       1  Athletics      1\n",
       "3    1  20.0   188.0    81.0  1896       1  Athletics      1\n",
       "4    1  21.0   188.0   102.0  1896       1  Wrestling      0"
      ]
     },
     "execution_count": 15,
     "metadata": {},
     "output_type": "execute_result"
    }
   ],
   "source": [
    "new_df2.head(5)"
   ]
  },
  {
   "cell_type": "markdown",
   "metadata": {},
   "source": [
    "After all, the athlete's performance in every Olympic game and every sport it includes is measured by its own abilities."
   ]
  },
  {
   "cell_type": "code",
   "execution_count": 16,
   "metadata": {},
   "outputs": [],
   "source": [
    "new_df3 = new_df2.copy()"
   ]
  },
  {
   "cell_type": "code",
   "execution_count": 17,
   "metadata": {},
   "outputs": [
    {
     "data": {
      "text/html": [
       "<div>\n",
       "<style scoped>\n",
       "    .dataframe tbody tr th:only-of-type {\n",
       "        vertical-align: middle;\n",
       "    }\n",
       "\n",
       "    .dataframe tbody tr th {\n",
       "        vertical-align: top;\n",
       "    }\n",
       "\n",
       "    .dataframe thead th {\n",
       "        text-align: right;\n",
       "    }\n",
       "</style>\n",
       "<table border=\"1\" class=\"dataframe\">\n",
       "  <thead>\n",
       "    <tr style=\"text-align: right;\">\n",
       "      <th></th>\n",
       "      <th>Sex</th>\n",
       "      <th>Age</th>\n",
       "      <th>Height</th>\n",
       "      <th>Weight</th>\n",
       "      <th>Year</th>\n",
       "      <th>Season</th>\n",
       "      <th>Sport</th>\n",
       "      <th>Medal</th>\n",
       "    </tr>\n",
       "  </thead>\n",
       "  <tbody>\n",
       "    <tr>\n",
       "      <th>0</th>\n",
       "      <td>1</td>\n",
       "      <td>20.0</td>\n",
       "      <td>188.0</td>\n",
       "      <td>81.0</td>\n",
       "      <td>1896</td>\n",
       "      <td>1</td>\n",
       "      <td>Athletics</td>\n",
       "      <td>1</td>\n",
       "    </tr>\n",
       "    <tr>\n",
       "      <th>1</th>\n",
       "      <td>1</td>\n",
       "      <td>20.0</td>\n",
       "      <td>188.0</td>\n",
       "      <td>81.0</td>\n",
       "      <td>1896</td>\n",
       "      <td>1</td>\n",
       "      <td>Athletics</td>\n",
       "      <td>1</td>\n",
       "    </tr>\n",
       "    <tr>\n",
       "      <th>2</th>\n",
       "      <td>1</td>\n",
       "      <td>20.0</td>\n",
       "      <td>188.0</td>\n",
       "      <td>81.0</td>\n",
       "      <td>1896</td>\n",
       "      <td>1</td>\n",
       "      <td>Athletics</td>\n",
       "      <td>1</td>\n",
       "    </tr>\n",
       "    <tr>\n",
       "      <th>3</th>\n",
       "      <td>1</td>\n",
       "      <td>20.0</td>\n",
       "      <td>188.0</td>\n",
       "      <td>81.0</td>\n",
       "      <td>1896</td>\n",
       "      <td>1</td>\n",
       "      <td>Athletics</td>\n",
       "      <td>1</td>\n",
       "    </tr>\n",
       "    <tr>\n",
       "      <th>4</th>\n",
       "      <td>1</td>\n",
       "      <td>21.0</td>\n",
       "      <td>188.0</td>\n",
       "      <td>102.0</td>\n",
       "      <td>1896</td>\n",
       "      <td>1</td>\n",
       "      <td>Wrestling</td>\n",
       "      <td>0</td>\n",
       "    </tr>\n",
       "  </tbody>\n",
       "</table>\n",
       "</div>"
      ],
      "text/plain": [
       "   Sex   Age  Height  Weight  Year  Season      Sport  Medal\n",
       "0    1  20.0   188.0    81.0  1896       1  Athletics      1\n",
       "1    1  20.0   188.0    81.0  1896       1  Athletics      1\n",
       "2    1  20.0   188.0    81.0  1896       1  Athletics      1\n",
       "3    1  20.0   188.0    81.0  1896       1  Athletics      1\n",
       "4    1  21.0   188.0   102.0  1896       1  Wrestling      0"
      ]
     },
     "execution_count": 17,
     "metadata": {},
     "output_type": "execute_result"
    }
   ],
   "source": [
    "new_df3.head(5)"
   ]
  },
  {
   "cell_type": "markdown",
   "metadata": {},
   "source": [
    "Now, we will remove the discontinues sports and those with insufficient amount of data. <br/>\n",
    "We will remove sports with less than 1000 records."
   ]
  },
  {
   "cell_type": "code",
   "execution_count": 18,
   "metadata": {
    "scrolled": true
   },
   "outputs": [
    {
     "data": {
      "text/plain": [
       "Motorboating                     1\n",
       "Lacrosse                         2\n",
       "Art Competitions                16\n",
       "Tug-Of-War                      22\n",
       "Rugby                           30\n",
       "Golf                           108\n",
       "Trampolining                   149\n",
       "Skeleton                       174\n",
       "Rugby Sevens                   297\n",
       "Curling                        410\n",
       "Softball                       441\n",
       "Triathlon                      526\n",
       "Beach Volleyball               538\n",
       "Taekwondo                      596\n",
       "Rhythmic Gymnastics            615\n",
       "Baseball                       846\n",
       "Synchronized Swimming          849\n",
       "Freestyle Skiing               913\n",
       "Snowboarding                   924\n",
       "Nordic Combined               1066\n",
       "Modern Pentathlon             1261\n",
       "Badminton                     1362\n",
       "Luge                          1377\n",
       "Short Track Speed Skating     1488\n",
       "Figure Skating                1512\n",
       "Table Tennis                  1789\n",
       "Archery                       1884\n",
       "Ski Jumping                   1968\n",
       "Tennis                        2008\n",
       "Diving                        2013\n",
       "Bobsleigh                     2206\n",
       "Water Polo                    2724\n",
       "Weightlifting                 3001\n",
       "Volleyball                    3277\n",
       "Handball                      3335\n",
       "Judo                          3384\n",
       "Basketball                    3675\n",
       "Hockey                        4264\n",
       "Speed Skating                 4405\n",
       "Boxing                        4425\n",
       "Football                      4532\n",
       "Equestrianism                 4553\n",
       "Ice Hockey                    4579\n",
       "Biathlon                      4615\n",
       "Sailing                       4868\n",
       "Wrestling                     5246\n",
       "Canoeing                      5550\n",
       "Alpine Skiing                 6340\n",
       "Fencing                       6540\n",
       "Shooting                      7299\n",
       "Cross Country Skiing          7535\n",
       "Rowing                        7794\n",
       "Cycling                       7818\n",
       "Gymnastics                   18326\n",
       "Swimming                     18796\n",
       "Athletics                    32568\n",
       "Name: Sport, dtype: int64"
      ]
     },
     "execution_count": 18,
     "metadata": {},
     "output_type": "execute_result"
    }
   ],
   "source": [
    "new_df3.Sport.value_counts(sort=True,ascending=True)"
   ]
  },
  {
   "cell_type": "code",
   "execution_count": 19,
   "metadata": {
    "scrolled": true
   },
   "outputs": [
    {
     "data": {
      "text/plain": [
       "Athletics                     True\n",
       "Swimming                      True\n",
       "Gymnastics                    True\n",
       "Cycling                       True\n",
       "Rowing                        True\n",
       "Cross Country Skiing          True\n",
       "Shooting                      True\n",
       "Fencing                       True\n",
       "Alpine Skiing                 True\n",
       "Canoeing                      True\n",
       "Wrestling                     True\n",
       "Sailing                       True\n",
       "Biathlon                      True\n",
       "Ice Hockey                    True\n",
       "Equestrianism                 True\n",
       "Football                      True\n",
       "Boxing                        True\n",
       "Speed Skating                 True\n",
       "Hockey                        True\n",
       "Basketball                    True\n",
       "Judo                          True\n",
       "Handball                      True\n",
       "Volleyball                    True\n",
       "Weightlifting                 True\n",
       "Water Polo                    True\n",
       "Bobsleigh                     True\n",
       "Diving                        True\n",
       "Tennis                        True\n",
       "Ski Jumping                   True\n",
       "Archery                       True\n",
       "Table Tennis                  True\n",
       "Figure Skating                True\n",
       "Short Track Speed Skating     True\n",
       "Luge                          True\n",
       "Badminton                     True\n",
       "Modern Pentathlon             True\n",
       "Nordic Combined               True\n",
       "Snowboarding                 False\n",
       "Freestyle Skiing             False\n",
       "Synchronized Swimming        False\n",
       "Baseball                     False\n",
       "Rhythmic Gymnastics          False\n",
       "Taekwondo                    False\n",
       "Beach Volleyball             False\n",
       "Triathlon                    False\n",
       "Softball                     False\n",
       "Curling                      False\n",
       "Rugby Sevens                 False\n",
       "Skeleton                     False\n",
       "Trampolining                 False\n",
       "Golf                         False\n",
       "Rugby                        False\n",
       "Tug-Of-War                   False\n",
       "Art Competitions             False\n",
       "Lacrosse                     False\n",
       "Motorboating                 False\n",
       "Name: Sport, dtype: bool"
      ]
     },
     "execution_count": 19,
     "metadata": {},
     "output_type": "execute_result"
    }
   ],
   "source": [
    "updated_records = new_df3.Sport.value_counts().gt(1000)\n",
    "updated_records"
   ]
  },
  {
   "cell_type": "code",
   "execution_count": 20,
   "metadata": {},
   "outputs": [],
   "source": [
    "invalid_sports = ['Snowboarding','Freestyle Skiing','Synchronized Swimming','Baseball','Rhythmic Gymnastics','Taekwondo',\n",
    "                 'Beach Volleyball','Triathlon','Softball','Curling','Rugby Sevens','Skeleton','Trampolining','Golf',\n",
    "                 'Rugby','Tug-Of-War','Art Competitions','Lacrosse','Motorboating']"
   ]
  },
  {
   "cell_type": "code",
   "execution_count": 21,
   "metadata": {},
   "outputs": [
    {
     "data": {
      "text/html": [
       "<div>\n",
       "<style scoped>\n",
       "    .dataframe tbody tr th:only-of-type {\n",
       "        vertical-align: middle;\n",
       "    }\n",
       "\n",
       "    .dataframe tbody tr th {\n",
       "        vertical-align: top;\n",
       "    }\n",
       "\n",
       "    .dataframe thead th {\n",
       "        text-align: right;\n",
       "    }\n",
       "</style>\n",
       "<table border=\"1\" class=\"dataframe\">\n",
       "  <thead>\n",
       "    <tr style=\"text-align: right;\">\n",
       "      <th></th>\n",
       "      <th>Sex</th>\n",
       "      <th>Age</th>\n",
       "      <th>Height</th>\n",
       "      <th>Weight</th>\n",
       "      <th>Year</th>\n",
       "      <th>Season</th>\n",
       "      <th>Sport</th>\n",
       "      <th>Medal</th>\n",
       "    </tr>\n",
       "  </thead>\n",
       "  <tbody>\n",
       "    <tr>\n",
       "      <th>0</th>\n",
       "      <td>1</td>\n",
       "      <td>20.0</td>\n",
       "      <td>188.0</td>\n",
       "      <td>81.0</td>\n",
       "      <td>1896</td>\n",
       "      <td>1</td>\n",
       "      <td>Athletics</td>\n",
       "      <td>1</td>\n",
       "    </tr>\n",
       "    <tr>\n",
       "      <th>1</th>\n",
       "      <td>1</td>\n",
       "      <td>20.0</td>\n",
       "      <td>188.0</td>\n",
       "      <td>81.0</td>\n",
       "      <td>1896</td>\n",
       "      <td>1</td>\n",
       "      <td>Athletics</td>\n",
       "      <td>1</td>\n",
       "    </tr>\n",
       "    <tr>\n",
       "      <th>2</th>\n",
       "      <td>1</td>\n",
       "      <td>20.0</td>\n",
       "      <td>188.0</td>\n",
       "      <td>81.0</td>\n",
       "      <td>1896</td>\n",
       "      <td>1</td>\n",
       "      <td>Athletics</td>\n",
       "      <td>1</td>\n",
       "    </tr>\n",
       "    <tr>\n",
       "      <th>3</th>\n",
       "      <td>1</td>\n",
       "      <td>20.0</td>\n",
       "      <td>188.0</td>\n",
       "      <td>81.0</td>\n",
       "      <td>1896</td>\n",
       "      <td>1</td>\n",
       "      <td>Athletics</td>\n",
       "      <td>1</td>\n",
       "    </tr>\n",
       "    <tr>\n",
       "      <th>4</th>\n",
       "      <td>1</td>\n",
       "      <td>21.0</td>\n",
       "      <td>188.0</td>\n",
       "      <td>102.0</td>\n",
       "      <td>1896</td>\n",
       "      <td>1</td>\n",
       "      <td>Wrestling</td>\n",
       "      <td>0</td>\n",
       "    </tr>\n",
       "    <tr>\n",
       "      <th>...</th>\n",
       "      <td>...</td>\n",
       "      <td>...</td>\n",
       "      <td>...</td>\n",
       "      <td>...</td>\n",
       "      <td>...</td>\n",
       "      <td>...</td>\n",
       "      <td>...</td>\n",
       "      <td>...</td>\n",
       "    </tr>\n",
       "    <tr>\n",
       "      <th>199378</th>\n",
       "      <td>1</td>\n",
       "      <td>21.0</td>\n",
       "      <td>186.0</td>\n",
       "      <td>83.0</td>\n",
       "      <td>2016</td>\n",
       "      <td>1</td>\n",
       "      <td>Swimming</td>\n",
       "      <td>0</td>\n",
       "    </tr>\n",
       "    <tr>\n",
       "      <th>199379</th>\n",
       "      <td>1</td>\n",
       "      <td>27.0</td>\n",
       "      <td>172.0</td>\n",
       "      <td>65.0</td>\n",
       "      <td>2016</td>\n",
       "      <td>1</td>\n",
       "      <td>Cycling</td>\n",
       "      <td>0</td>\n",
       "    </tr>\n",
       "    <tr>\n",
       "      <th>199380</th>\n",
       "      <td>1</td>\n",
       "      <td>30.0</td>\n",
       "      <td>183.0</td>\n",
       "      <td>64.0</td>\n",
       "      <td>2016</td>\n",
       "      <td>1</td>\n",
       "      <td>Athletics</td>\n",
       "      <td>0</td>\n",
       "    </tr>\n",
       "    <tr>\n",
       "      <th>199381</th>\n",
       "      <td>1</td>\n",
       "      <td>33.0</td>\n",
       "      <td>200.0</td>\n",
       "      <td>105.0</td>\n",
       "      <td>2016</td>\n",
       "      <td>1</td>\n",
       "      <td>Handball</td>\n",
       "      <td>0</td>\n",
       "    </tr>\n",
       "    <tr>\n",
       "      <th>199382</th>\n",
       "      <td>1</td>\n",
       "      <td>26.0</td>\n",
       "      <td>185.0</td>\n",
       "      <td>83.0</td>\n",
       "      <td>2016</td>\n",
       "      <td>1</td>\n",
       "      <td>Hockey</td>\n",
       "      <td>0</td>\n",
       "    </tr>\n",
       "  </tbody>\n",
       "</table>\n",
       "<p>199383 rows × 8 columns</p>\n",
       "</div>"
      ],
      "text/plain": [
       "        Sex   Age  Height  Weight  Year  Season      Sport  Medal\n",
       "0         1  20.0   188.0    81.0  1896       1  Athletics      1\n",
       "1         1  20.0   188.0    81.0  1896       1  Athletics      1\n",
       "2         1  20.0   188.0    81.0  1896       1  Athletics      1\n",
       "3         1  20.0   188.0    81.0  1896       1  Athletics      1\n",
       "4         1  21.0   188.0   102.0  1896       1  Wrestling      0\n",
       "...     ...   ...     ...     ...   ...     ...        ...    ...\n",
       "199378    1  21.0   186.0    83.0  2016       1   Swimming      0\n",
       "199379    1  27.0   172.0    65.0  2016       1    Cycling      0\n",
       "199380    1  30.0   183.0    64.0  2016       1  Athletics      0\n",
       "199381    1  33.0   200.0   105.0  2016       1   Handball      0\n",
       "199382    1  26.0   185.0    83.0  2016       1     Hockey      0\n",
       "\n",
       "[199383 rows x 8 columns]"
      ]
     },
     "execution_count": 21,
     "metadata": {},
     "output_type": "execute_result"
    }
   ],
   "source": [
    "updated_df = new_df3.loc[~new_df3.Sport.isin(invalid_sports)]\n",
    "updated_df.reset_index(drop=True)"
   ]
  },
  {
   "cell_type": "code",
   "execution_count": 22,
   "metadata": {},
   "outputs": [
    {
     "data": {
      "text/plain": [
       "array(['Athletics', 'Wrestling', 'Gymnastics', 'Weightlifting', 'Fencing',\n",
       "       'Swimming', 'Water Polo', 'Boxing', 'Tennis', 'Cycling', 'Diving',\n",
       "       'Rowing', 'Football', 'Hockey', 'Shooting', 'Equestrianism',\n",
       "       'Sailing', 'Ice Hockey', 'Figure Skating', 'Speed Skating',\n",
       "       'Cross Country Skiing', 'Nordic Combined', 'Ski Jumping',\n",
       "       'Modern Pentathlon', 'Bobsleigh', 'Basketball', 'Handball',\n",
       "       'Alpine Skiing', 'Canoeing', 'Biathlon', 'Luge', 'Volleyball',\n",
       "       'Judo', 'Archery', 'Table Tennis', 'Badminton',\n",
       "       'Short Track Speed Skating'], dtype=object)"
      ]
     },
     "execution_count": 22,
     "metadata": {},
     "output_type": "execute_result"
    }
   ],
   "source": [
    "sports = updated_df.Sport.unique()\n",
    "sports"
   ]
  },
  {
   "cell_type": "markdown",
   "metadata": {},
   "source": [
    "Now, we will encode the sports by label encoder:"
   ]
  },
  {
   "cell_type": "code",
   "execution_count": 23,
   "metadata": {},
   "outputs": [],
   "source": [
    "le = preprocessing.LabelEncoder()\n",
    "updated_df.loc[:,['Sport']] = le.fit_transform(updated_df['Sport'])"
   ]
  },
  {
   "cell_type": "markdown",
   "metadata": {},
   "source": [
    "## <br/>Binning numerical variables"
   ]
  },
  {
   "cell_type": "code",
   "execution_count": 24,
   "metadata": {},
   "outputs": [],
   "source": [
    "# Discretization using binning\n",
    "\n",
    "#updated_df['Age'].value_counts()\n",
    "#updated_df['Height'].value_counts().sort_index()\n",
    "#updated_df['Weight'].value_counts().sort_index()\n",
    "#updated_df['Year'].value_counts()\n",
    "\n",
    "age_bins = [10, 16, 21, 26, 31, 36, 40]\n",
    "age_labels=[0,1,2,3,4,5]\n",
    "updated_df['Age'] = pd.cut(updated_df['Age'], age_bins, labels = age_labels)\n",
    "\n",
    "height_bins = [125, 130, 140, 150, 160, 165, 170, 175, 180, 185, 190, 195, 200, 230]\n",
    "height_labels=[0,1,2,3,4,5,6,7,8,9,10,11,12]\n",
    "updated_df['Height'] = pd.cut(updated_df['Height'], height_bins, labels = height_labels)\n",
    "\n",
    "weight_bins = [20, 40, 60, 75, 90, 100, 120, 150, 200, 220]\n",
    "weight_labels=[0,1,2,3,4,5,6,7,8]\n",
    "updated_df['Weight'] = pd.cut(updated_df['Weight'], weight_bins, labels = weight_labels)"
   ]
  },
  {
   "cell_type": "code",
   "execution_count": 25,
   "metadata": {},
   "outputs": [
    {
     "data": {
      "text/plain": [
       "0     5837\n",
       "1    45751\n",
       "2    85354\n",
       "3    45760\n",
       "4    14561\n",
       "5     2120\n",
       "Name: Age, dtype: int64"
      ]
     },
     "execution_count": 25,
     "metadata": {},
     "output_type": "execute_result"
    }
   ],
   "source": [
    "updated_df['Age'].value_counts().sort_index()\n",
    "\n",
    "#updated_df['NaN']\n",
    "#updated_df.isna().sum()\n",
    "#updated_df.Age.unique()"
   ]
  },
  {
   "cell_type": "code",
   "execution_count": 26,
   "metadata": {},
   "outputs": [
    {
     "name": "stdout",
     "output_type": "stream",
     "text": [
      "Series([], Name: Weight, dtype: category\n",
      "Categories (9, int64): [0 < 1 < 2 < 3 ... 5 < 6 < 7 < 8])\n"
     ]
    }
   ],
   "source": [
    "print(updated_df.Weight[updated_df['Age']=='NaN'])"
   ]
  },
  {
   "cell_type": "code",
   "execution_count": 27,
   "metadata": {},
   "outputs": [
    {
     "data": {
      "text/html": [
       "<div>\n",
       "<style scoped>\n",
       "    .dataframe tbody tr th:only-of-type {\n",
       "        vertical-align: middle;\n",
       "    }\n",
       "\n",
       "    .dataframe tbody tr th {\n",
       "        vertical-align: top;\n",
       "    }\n",
       "\n",
       "    .dataframe thead th {\n",
       "        text-align: right;\n",
       "    }\n",
       "</style>\n",
       "<table border=\"1\" class=\"dataframe\">\n",
       "  <thead>\n",
       "    <tr style=\"text-align: right;\">\n",
       "      <th></th>\n",
       "      <th>Sex</th>\n",
       "      <th>Age</th>\n",
       "      <th>Height</th>\n",
       "      <th>Weight</th>\n",
       "      <th>Year</th>\n",
       "      <th>Season</th>\n",
       "      <th>Sport</th>\n",
       "      <th>Medal</th>\n",
       "    </tr>\n",
       "  </thead>\n",
       "  <tbody>\n",
       "    <tr>\n",
       "      <th>0</th>\n",
       "      <td>1</td>\n",
       "      <td>1</td>\n",
       "      <td>9</td>\n",
       "      <td>3</td>\n",
       "      <td>1896</td>\n",
       "      <td>1</td>\n",
       "      <td>2</td>\n",
       "      <td>1</td>\n",
       "    </tr>\n",
       "    <tr>\n",
       "      <th>1</th>\n",
       "      <td>1</td>\n",
       "      <td>1</td>\n",
       "      <td>9</td>\n",
       "      <td>3</td>\n",
       "      <td>1896</td>\n",
       "      <td>1</td>\n",
       "      <td>2</td>\n",
       "      <td>1</td>\n",
       "    </tr>\n",
       "    <tr>\n",
       "      <th>2</th>\n",
       "      <td>1</td>\n",
       "      <td>1</td>\n",
       "      <td>9</td>\n",
       "      <td>3</td>\n",
       "      <td>1896</td>\n",
       "      <td>1</td>\n",
       "      <td>2</td>\n",
       "      <td>1</td>\n",
       "    </tr>\n",
       "    <tr>\n",
       "      <th>3</th>\n",
       "      <td>1</td>\n",
       "      <td>1</td>\n",
       "      <td>9</td>\n",
       "      <td>3</td>\n",
       "      <td>1896</td>\n",
       "      <td>1</td>\n",
       "      <td>2</td>\n",
       "      <td>1</td>\n",
       "    </tr>\n",
       "    <tr>\n",
       "      <th>4</th>\n",
       "      <td>1</td>\n",
       "      <td>1</td>\n",
       "      <td>9</td>\n",
       "      <td>5</td>\n",
       "      <td>1896</td>\n",
       "      <td>1</td>\n",
       "      <td>36</td>\n",
       "      <td>0</td>\n",
       "    </tr>\n",
       "  </tbody>\n",
       "</table>\n",
       "</div>"
      ],
      "text/plain": [
       "   Sex Age Height Weight  Year  Season  Sport  Medal\n",
       "0    1   1      9      3  1896       1      2      1\n",
       "1    1   1      9      3  1896       1      2      1\n",
       "2    1   1      9      3  1896       1      2      1\n",
       "3    1   1      9      3  1896       1      2      1\n",
       "4    1   1      9      5  1896       1     36      0"
      ]
     },
     "execution_count": 27,
     "metadata": {},
     "output_type": "execute_result"
    }
   ],
   "source": [
    "updated_df.head(5)"
   ]
  },
  {
   "cell_type": "code",
   "execution_count": 28,
   "metadata": {},
   "outputs": [
    {
     "name": "stdout",
     "output_type": "stream",
     "text": [
      "(199383, 8)\n"
     ]
    }
   ],
   "source": [
    "print(updated_df.shape)"
   ]
  },
  {
   "cell_type": "markdown",
   "metadata": {},
   "source": [
    "<!-- But, we should ignore the discontinued sports! -->"
   ]
  },
  {
   "cell_type": "code",
   "execution_count": 29,
   "metadata": {},
   "outputs": [],
   "source": [
    "###################################### ML PHASE ######################################"
   ]
  },
  {
   "cell_type": "markdown",
   "metadata": {},
   "source": [
    "At this point, after the whole process above, we are ready to start the ML phase.\n",
    "\n",
    "## What are we trying to predict?\n",
    "We are attempting to forecast whether or not an individual can win an Olympic medal based on his personal statistics and skills."
   ]
  },
  {
   "cell_type": "markdown",
   "metadata": {},
   "source": [
    "Essentially, our learning model is a supervised one.<br/>\n",
    "Our problem is a classification problem since we are trying to predict a certain categorical variable value.\n",
    "\n",
    "First, we will make use of a **logistic regression model**."
   ]
  },
  {
   "cell_type": "code",
   "execution_count": 30,
   "metadata": {},
   "outputs": [],
   "source": [
    "X = updated_df.drop(columns=['Medal'])\n",
    "y = updated_df['Medal']"
   ]
  },
  {
   "cell_type": "code",
   "execution_count": 31,
   "metadata": {
    "scrolled": true
   },
   "outputs": [],
   "source": [
    "# Split into training and test sets & Scaling\n",
    "scaler = StandardScaler()\n",
    "scaler.fit(X.values)\n",
    "scaled_features = scaler.fit_transform(X.values)\n",
    "df_scaled = pd.DataFrame(scaled_features, columns=X.columns)\n",
    "X1 = df_scaled\n",
    "y1 = y\n",
    "X_train, X_test, y_train, y_test = train_test_split(X1.values, y1, random_state=3, test_size=0.2)"
   ]
  },
  {
   "cell_type": "code",
   "execution_count": 32,
   "metadata": {},
   "outputs": [
    {
     "name": "stdout",
     "output_type": "stream",
     "text": [
      "(159506, 7) (39877, 7)\n"
     ]
    }
   ],
   "source": [
    "print(X_train.shape, X_test.shape)"
   ]
  },
  {
   "cell_type": "code",
   "execution_count": 33,
   "metadata": {},
   "outputs": [
    {
     "name": "stdout",
     "output_type": "stream",
     "text": [
      "(159506,) (39877,)\n"
     ]
    }
   ],
   "source": [
    "print(y_train.shape, y_test.shape)"
   ]
  },
  {
   "cell_type": "code",
   "execution_count": 34,
   "metadata": {
    "scrolled": true
   },
   "outputs": [
    {
     "name": "stdout",
     "output_type": "stream",
     "text": [
      "Accuracy Score: 0.8553050630689369\n",
      "f1 score: 0.8553050630689369\n",
      "Precision score: 0.8553050630689369\n",
      "Recall score: 0.8553050630689369\n"
     ]
    }
   ],
   "source": [
    "# set up the model, logistic regression model \n",
    "lrm = LogisticRegression()\n",
    "lrm.fit(X_train,y_train)\n",
    "y_pred = lrm.predict(X_test)\n",
    "\n",
    "# Measuring model performance\n",
    "print('Accuracy Score:',lrm.score(X_test,y_test))\n",
    "print('f1 score:',f1_score(y_test,y_pred,average='micro'))\n",
    "print('Precision score:',precision_score(y_test,y_pred,average='micro'))\n",
    "print('Recall score:',recall_score(y_test,y_pred,average='micro'))"
   ]
  },
  {
   "cell_type": "code",
   "execution_count": 35,
   "metadata": {},
   "outputs": [
    {
     "data": {
      "text/plain": [
       "Text(0.5, 24.0, 'Predicted label')"
      ]
     },
     "execution_count": 35,
     "metadata": {},
     "output_type": "execute_result"
    },
    {
     "data": {
      "image/png": "[encoded data removed]",
      "text/plain": [
       "<Figure size 360x360 with 2 Axes>"
      ]
     },
     "metadata": {
      "needs_background": "light"
     },
     "output_type": "display_data"
    }
   ],
   "source": [
    "# Confusion Matrix\n",
    "plt.figure(figsize=(5,5))\n",
    "cm_lrm = confusion_matrix(y_test,y_pred)\n",
    "sns.heatmap(cm_lrm,annot=True,linewidth=0.5,fmt='.0f', cmap='coolwarm')\n",
    "plt.ylabel('Actual label')\n",
    "plt.xlabel('Predicted label')"
   ]
  },
  {
   "cell_type": "markdown",
   "metadata": {},
   "source": [
    "**We can see that the model above has not predicted even a single label as '1'**"
   ]
  },
  {
   "cell_type": "markdown",
   "metadata": {},
   "source": [
    "Next, we will use another algorithm, **decision tree!**"
   ]
  },
  {
   "cell_type": "code",
   "execution_count": 36,
   "metadata": {},
   "outputs": [
    {
     "name": "stdout",
     "output_type": "stream",
     "text": [
      "Accuracy Score: 1.0\n",
      "f1 score: 0.8387040148456504\n",
      "Precision score: 0.8387040148456504\n",
      "Recall score: 0.8387040148456504\n"
     ]
    }
   ],
   "source": [
    "dtc = DecisionTreeClassifier()\n",
    "dtc.fit(X_train,y_train)\n",
    "y_pred = dtc.predict(X_test)\n",
    "\n",
    "print('Accuracy Score:',dtc.score(X_test,y_pred))\n",
    "print('f1 score:',f1_score(y_test,y_pred,average='micro'))\n",
    "print('Precision score:',precision_score(y_test,y_pred,average='micro'))\n",
    "print('Recall score:',recall_score(y_test,y_pred,average='micro'))"
   ]
  },
  {
   "cell_type": "code",
   "execution_count": 37,
   "metadata": {},
   "outputs": [
    {
     "data": {
      "text/plain": [
       "Text(0.5, 24.0, 'Predicted label')"
      ]
     },
     "execution_count": 37,
     "metadata": {},
     "output_type": "execute_result"
    },
    {
     "data": {
      "image/png": "[encoded data removed]",
      "text/plain": [
       "<Figure size 360x360 with 2 Axes>"
      ]
     },
     "metadata": {
      "needs_background": "light"
     },
     "output_type": "display_data"
    }
   ],
   "source": [
    "# Confusion Matrix\n",
    "plt.figure(figsize=(5,5))\n",
    "cm_dtc = confusion_matrix(y_test,y_pred)\n",
    "sns.heatmap(cm_dtc,annot=True,linewidth=0.5,fmt='.0f', cmap='coolwarm')\n",
    "plt.ylabel('Actual label')\n",
    "plt.xlabel('Predicted label')"
   ]
  },
  {
   "cell_type": "markdown",
   "metadata": {},
   "source": [
    "Since the accuracy is 1, there might be an **overfitting** issue.<br/>\n",
    "\n",
    "We will handle it by using **Random Forest algorithm!**"
   ]
  },
  {
   "cell_type": "code",
   "execution_count": 38,
   "metadata": {},
   "outputs": [
    {
     "name": "stdout",
     "output_type": "stream",
     "text": [
      "Accuracy Score: 0.8382526268274946\n",
      "f1 score: 0.8382526268274946\n",
      "Precision score: 0.8382526268274946\n",
      "Recall score: 0.8382526268274946\n"
     ]
    }
   ],
   "source": [
    "rfc = RandomForestClassifier(n_estimators=100)\n",
    "rfc.fit(X_train,y_train)\n",
    "y_pred = rfc.predict(X_test)\n",
    "\n",
    "print('Accuracy Score:',rfc.score(X_test,y_test))\n",
    "print('f1 score:',f1_score(y_test,y_pred,average='micro'))\n",
    "print('Precision score:',precision_score(y_test,y_pred,average='micro'))\n",
    "print('Recall score:',recall_score(y_test,y_pred,average='micro'))"
   ]
  },
  {
   "cell_type": "code",
   "execution_count": 39,
   "metadata": {},
   "outputs": [
    {
     "data": {
      "text/plain": [
       "Text(0.5, 24.0, 'Predicted label')"
      ]
     },
     "execution_count": 39,
     "metadata": {},
     "output_type": "execute_result"
    },
    {
     "data": {
      "image/png": "[encoded data removed]",
      "text/plain": [
       "<Figure size 360x360 with 2 Axes>"
      ]
     },
     "metadata": {
      "needs_background": "light"
     },
     "output_type": "display_data"
    }
   ],
   "source": [
    "# Confusion Matrix\n",
    "plt.figure(figsize=(5,5))\n",
    "cm_rfc = confusion_matrix(y_test,y_pred)\n",
    "sns.heatmap(cm_rfc,annot=True,linewidth=0.5,fmt='.0f', cmap='coolwarm')\n",
    "plt.ylabel('Actual label')\n",
    "plt.xlabel('Predicted label')"
   ]
  },
  {
   "cell_type": "markdown",
   "metadata": {},
   "source": [
    "Lastly, we will use **naive bayes**"
   ]
  },
  {
   "cell_type": "code",
   "execution_count": 40,
   "metadata": {},
   "outputs": [
    {
     "name": "stdout",
     "output_type": "stream",
     "text": [
      "Accuracy Score: 0.8463776111542994\n",
      "f1 score: 0.8463776111542994\n",
      "Precision score: 0.8463776111542994\n",
      "Recall score: 0.8463776111542994\n"
     ]
    }
   ],
   "source": [
    "gnb = GaussianNB()\n",
    "gnb.fit(X_train,y_train)\n",
    "y_pred = gnb.predict(X_test)\n",
    "\n",
    "print('Accuracy Score:',gnb.score(X_test,y_test))\n",
    "print('f1 score:',f1_score(y_test,y_pred,average='micro'))\n",
    "print('Precision score:',precision_score(y_test,y_pred,average='micro'))\n",
    "print('Recall score:',recall_score(y_test,y_pred,average='micro'))"
   ]
  },
  {
   "cell_type": "code",
   "execution_count": 41,
   "metadata": {
    "scrolled": true
   },
   "outputs": [
    {
     "data": {
      "text/plain": [
       "Text(0.5, 24.0, 'Predicted label')"
      ]
     },
     "execution_count": 41,
     "metadata": {},
     "output_type": "execute_result"
    },
    {
     "data": {
      "image/png": "[encoded data removed]",
      "text/plain": [
       "<Figure size 360x360 with 2 Axes>"
      ]
     },
     "metadata": {
      "needs_background": "light"
     },
     "output_type": "display_data"
    }
   ],
   "source": [
    "# Confusion Matrix\n",
    "plt.figure(figsize=(5,5))\n",
    "cm_gnb = confusion_matrix(y_test,y_pred)\n",
    "sns.heatmap(cm_gnb,annot=True,linewidth=0.5,fmt='.0f', cmap='coolwarm')\n",
    "plt.ylabel('Actual label')\n",
    "plt.xlabel('Predicted label')"
   ]
  },
  {
   "cell_type": "markdown",
   "metadata": {},
   "source": [
    "So, our best model was able to attain an 85% success rate!"
   ]
  },
  {
   "cell_type": "markdown",
   "metadata": {},
   "source": [
    "WOW Effect #2"
   ]
  },
  {
   "cell_type": "code",
   "execution_count": 111,
   "metadata": {},
   "outputs": [],
   "source": [
    "# Let us insert my own details and get the prediction result"
   ]
  },
  {
   "cell_type": "code",
   "execution_count": 112,
   "metadata": {
    "scrolled": false
   },
   "outputs": [
    {
     "data": {
      "text/html": [
       "<div>\n",
       "<style scoped>\n",
       "    .dataframe tbody tr th:only-of-type {\n",
       "        vertical-align: middle;\n",
       "    }\n",
       "\n",
       "    .dataframe tbody tr th {\n",
       "        vertical-align: top;\n",
       "    }\n",
       "\n",
       "    .dataframe thead th {\n",
       "        text-align: right;\n",
       "    }\n",
       "</style>\n",
       "<table border=\"1\" class=\"dataframe\">\n",
       "  <thead>\n",
       "    <tr style=\"text-align: right;\">\n",
       "      <th></th>\n",
       "      <th>Sex</th>\n",
       "      <th>Age</th>\n",
       "      <th>Height</th>\n",
       "      <th>Weight</th>\n",
       "      <th>Year</th>\n",
       "      <th>Season</th>\n",
       "      <th>Sport</th>\n",
       "    </tr>\n",
       "  </thead>\n",
       "  <tbody>\n",
       "    <tr>\n",
       "      <th>0</th>\n",
       "      <td>1</td>\n",
       "      <td>1</td>\n",
       "      <td>7</td>\n",
       "      <td>1</td>\n",
       "      <td>2020</td>\n",
       "      <td>0</td>\n",
       "      <td>0</td>\n",
       "    </tr>\n",
       "    <tr>\n",
       "      <th>1</th>\n",
       "      <td>1</td>\n",
       "      <td>1</td>\n",
       "      <td>7</td>\n",
       "      <td>1</td>\n",
       "      <td>2020</td>\n",
       "      <td>0</td>\n",
       "      <td>1</td>\n",
       "    </tr>\n",
       "    <tr>\n",
       "      <th>2</th>\n",
       "      <td>1</td>\n",
       "      <td>1</td>\n",
       "      <td>7</td>\n",
       "      <td>1</td>\n",
       "      <td>2020</td>\n",
       "      <td>0</td>\n",
       "      <td>2</td>\n",
       "    </tr>\n",
       "    <tr>\n",
       "      <th>3</th>\n",
       "      <td>1</td>\n",
       "      <td>1</td>\n",
       "      <td>7</td>\n",
       "      <td>1</td>\n",
       "      <td>2020</td>\n",
       "      <td>0</td>\n",
       "      <td>3</td>\n",
       "    </tr>\n",
       "    <tr>\n",
       "      <th>4</th>\n",
       "      <td>1</td>\n",
       "      <td>1</td>\n",
       "      <td>7</td>\n",
       "      <td>1</td>\n",
       "      <td>2020</td>\n",
       "      <td>0</td>\n",
       "      <td>4</td>\n",
       "    </tr>\n",
       "    <tr>\n",
       "      <th>...</th>\n",
       "      <td>...</td>\n",
       "      <td>...</td>\n",
       "      <td>...</td>\n",
       "      <td>...</td>\n",
       "      <td>...</td>\n",
       "      <td>...</td>\n",
       "      <td>...</td>\n",
       "    </tr>\n",
       "    <tr>\n",
       "      <th>69</th>\n",
       "      <td>1</td>\n",
       "      <td>1</td>\n",
       "      <td>7</td>\n",
       "      <td>1</td>\n",
       "      <td>2020</td>\n",
       "      <td>1</td>\n",
       "      <td>32</td>\n",
       "    </tr>\n",
       "    <tr>\n",
       "      <th>70</th>\n",
       "      <td>1</td>\n",
       "      <td>1</td>\n",
       "      <td>7</td>\n",
       "      <td>1</td>\n",
       "      <td>2020</td>\n",
       "      <td>1</td>\n",
       "      <td>33</td>\n",
       "    </tr>\n",
       "    <tr>\n",
       "      <th>71</th>\n",
       "      <td>1</td>\n",
       "      <td>1</td>\n",
       "      <td>7</td>\n",
       "      <td>1</td>\n",
       "      <td>2020</td>\n",
       "      <td>1</td>\n",
       "      <td>34</td>\n",
       "    </tr>\n",
       "    <tr>\n",
       "      <th>72</th>\n",
       "      <td>1</td>\n",
       "      <td>1</td>\n",
       "      <td>7</td>\n",
       "      <td>1</td>\n",
       "      <td>2020</td>\n",
       "      <td>1</td>\n",
       "      <td>35</td>\n",
       "    </tr>\n",
       "    <tr>\n",
       "      <th>73</th>\n",
       "      <td>1</td>\n",
       "      <td>1</td>\n",
       "      <td>7</td>\n",
       "      <td>1</td>\n",
       "      <td>2020</td>\n",
       "      <td>1</td>\n",
       "      <td>36</td>\n",
       "    </tr>\n",
       "  </tbody>\n",
       "</table>\n",
       "<p>74 rows × 7 columns</p>\n",
       "</div>"
      ],
      "text/plain": [
       "    Sex  Age  Height  Weight  Year  Season  Sport\n",
       "0     1    1       7       1  2020       0      0\n",
       "1     1    1       7       1  2020       0      1\n",
       "2     1    1       7       1  2020       0      2\n",
       "3     1    1       7       1  2020       0      3\n",
       "4     1    1       7       1  2020       0      4\n",
       "..  ...  ...     ...     ...   ...     ...    ...\n",
       "69    1    1       7       1  2020       1     32\n",
       "70    1    1       7       1  2020       1     33\n",
       "71    1    1       7       1  2020       1     34\n",
       "72    1    1       7       1  2020       1     35\n",
       "73    1    1       7       1  2020       1     36\n",
       "\n",
       "[74 rows x 7 columns]"
      ]
     },
     "execution_count": 112,
     "metadata": {},
     "output_type": "execute_result"
    }
   ],
   "source": [
    "# Sex, Age, Height, Weight, Year, Season, Sport \t\t\t\t\t\t\t\t Medal\n",
    "\n",
    "# Now, we have 37 different Sports encoded respectively from 0 to 36\n",
    "\n",
    "#data = {'Sex':1, 'Age':1,'Height':1, 'Weight':1, 'Season':[0, 1], 'Sport':[i for i in range(0,37)]}\n",
    "\n",
    "my_X = pd.DataFrame(0, index = [i for i in range(0,74)],\n",
    "                                     columns=['Sex', 'Age', 'Height', 'Weight', 'Year', 'Season', 'Sport'])\n",
    "# Sex, Age\n",
    "my_X.iloc[:,0:2] = 1\n",
    "\n",
    "# Height, Weight\n",
    "my_X.iloc[:,2] = 7\n",
    "my_X.iloc[:,3] = 1\n",
    "\n",
    "# Year\n",
    "my_X.iloc[:,4] = 2020\n",
    "\n",
    "# Seasons\n",
    "my_X.iloc[0:37,5] = 0\n",
    "my_X.iloc[37:74,5] = 1\n",
    "\n",
    "# Sports\n",
    "my_X.iloc[0:37,6] = list(range(0,37))\n",
    "my_X.iloc[37:74,6] = list(range(0,37))\n",
    "\n",
    "my_X"
   ]
  },
  {
   "cell_type": "code",
   "execution_count": 113,
   "metadata": {},
   "outputs": [],
   "source": [
    "# We will use our 2 best models - Random Forest & Gaussian Naive Bayes.\n",
    "# Note that the Decision Tree model has an overfitting issue.\n",
    "# Note that the Logistic Regression did not predict correctly even a single medalist"
   ]
  },
  {
   "cell_type": "code",
   "execution_count": 114,
   "metadata": {},
   "outputs": [],
   "source": [
    "# Random Forest\n",
    "y_pred_rfc = rfc.predict(my_X)\n",
    "result_df_rfc = pd.DataFrame(y_pred_rfc,columns=['Medal Prediction'])"
   ]
  },
  {
   "cell_type": "code",
   "execution_count": 115,
   "metadata": {
    "scrolled": true
   },
   "outputs": [
    {
     "data": {
      "text/plain": [
       "Int64Index([], dtype='int64')"
      ]
     },
     "execution_count": 115,
     "metadata": {},
     "output_type": "execute_result"
    }
   ],
   "source": [
    "sports_df1 = result_df_rfc[result_df_rfc['Medal Prediction']==1]\n",
    "sports_df1.index"
   ]
  },
  {
   "cell_type": "code",
   "execution_count": 116,
   "metadata": {},
   "outputs": [],
   "source": [
    "# Naive Bayes\n",
    "y_pred_gnb = gnb.predict(my_X)\n",
    "result_df_gnb = pd.DataFrame(y_pred_gnb,columns=['Medal Prediction'])"
   ]
  },
  {
   "cell_type": "code",
   "execution_count": 117,
   "metadata": {
    "scrolled": false
   },
   "outputs": [
    {
     "data": {
      "text/plain": [
       "Int64Index([ 0,  1,  2,  3,  4,  5,  6,  7,  8,  9, 10, 11, 12, 13, 14, 15, 16,\n",
       "            17, 18, 19, 20, 21, 22, 23, 24, 25, 26, 27, 28, 29, 30, 31, 32, 33,\n",
       "            34, 35, 36, 37, 38, 39, 40, 41, 42, 43, 44, 45, 46, 47, 48, 49, 50,\n",
       "            51, 52, 53, 54, 55, 56, 57, 58, 59, 60, 61, 62, 63, 64, 65, 66, 67,\n",
       "            68, 69, 70, 71, 72, 73],\n",
       "           dtype='int64')"
      ]
     },
     "execution_count": 117,
     "metadata": {},
     "output_type": "execute_result"
    }
   ],
   "source": [
    "sports_df2 = result_df_gnb[result_df_gnb['Medal Prediction']==1]\n",
    "sports_df2.index"
   ]
  },
  {
   "cell_type": "code",
   "execution_count": 118,
   "metadata": {},
   "outputs": [],
   "source": [
    "#print(my_X)"
   ]
  },
  {
   "cell_type": "markdown",
   "metadata": {},
   "source": [
    "So, we can figure out after investigating our 2 top performencing models that:<br/>\n",
    "-    The Random Forest Classifier predicted that I will get even not a single medal.\n",
    "-    On the opposite side, the Gaussian Naive Bayes Model predicted that I have a potential to win an Olympic medal \n",
    "     on 7 different sports! <br/><br/>\n",
    "We can conclude from \n",
    "that information that we can not predict for sure, but with pretty good stats we definitely can!"
   ]
  },
  {
   "cell_type": "markdown",
   "metadata": {},
   "source": [
    "Let us see which sports we are talking about:"
   ]
  },
  {
   "cell_type": "code",
   "execution_count": 119,
   "metadata": {
    "scrolled": false
   },
   "outputs": [
    {
     "data": {
      "text/html": [
       "<div>\n",
       "<style scoped>\n",
       "    .dataframe tbody tr th:only-of-type {\n",
       "        vertical-align: middle;\n",
       "    }\n",
       "\n",
       "    .dataframe tbody tr th {\n",
       "        vertical-align: top;\n",
       "    }\n",
       "\n",
       "    .dataframe thead th {\n",
       "        text-align: right;\n",
       "    }\n",
       "</style>\n",
       "<table border=\"1\" class=\"dataframe\">\n",
       "  <thead>\n",
       "    <tr style=\"text-align: right;\">\n",
       "      <th></th>\n",
       "      <th>Sex</th>\n",
       "      <th>Age</th>\n",
       "      <th>Height</th>\n",
       "      <th>Weight</th>\n",
       "      <th>Year</th>\n",
       "      <th>Season</th>\n",
       "      <th>Sport</th>\n",
       "    </tr>\n",
       "  </thead>\n",
       "  <tbody>\n",
       "    <tr>\n",
       "      <th>0</th>\n",
       "      <td>1</td>\n",
       "      <td>1</td>\n",
       "      <td>7</td>\n",
       "      <td>1</td>\n",
       "      <td>2020</td>\n",
       "      <td>0</td>\n",
       "      <td>0</td>\n",
       "    </tr>\n",
       "    <tr>\n",
       "      <th>1</th>\n",
       "      <td>1</td>\n",
       "      <td>1</td>\n",
       "      <td>7</td>\n",
       "      <td>1</td>\n",
       "      <td>2020</td>\n",
       "      <td>0</td>\n",
       "      <td>1</td>\n",
       "    </tr>\n",
       "    <tr>\n",
       "      <th>2</th>\n",
       "      <td>1</td>\n",
       "      <td>1</td>\n",
       "      <td>7</td>\n",
       "      <td>1</td>\n",
       "      <td>2020</td>\n",
       "      <td>0</td>\n",
       "      <td>2</td>\n",
       "    </tr>\n",
       "    <tr>\n",
       "      <th>3</th>\n",
       "      <td>1</td>\n",
       "      <td>1</td>\n",
       "      <td>7</td>\n",
       "      <td>1</td>\n",
       "      <td>2020</td>\n",
       "      <td>0</td>\n",
       "      <td>3</td>\n",
       "    </tr>\n",
       "    <tr>\n",
       "      <th>4</th>\n",
       "      <td>1</td>\n",
       "      <td>1</td>\n",
       "      <td>7</td>\n",
       "      <td>1</td>\n",
       "      <td>2020</td>\n",
       "      <td>0</td>\n",
       "      <td>4</td>\n",
       "    </tr>\n",
       "    <tr>\n",
       "      <th>5</th>\n",
       "      <td>1</td>\n",
       "      <td>1</td>\n",
       "      <td>7</td>\n",
       "      <td>1</td>\n",
       "      <td>2020</td>\n",
       "      <td>0</td>\n",
       "      <td>5</td>\n",
       "    </tr>\n",
       "    <tr>\n",
       "      <th>6</th>\n",
       "      <td>1</td>\n",
       "      <td>1</td>\n",
       "      <td>7</td>\n",
       "      <td>1</td>\n",
       "      <td>2020</td>\n",
       "      <td>0</td>\n",
       "      <td>6</td>\n",
       "    </tr>\n",
       "    <tr>\n",
       "      <th>37</th>\n",
       "      <td>1</td>\n",
       "      <td>1</td>\n",
       "      <td>7</td>\n",
       "      <td>1</td>\n",
       "      <td>2020</td>\n",
       "      <td>1</td>\n",
       "      <td>0</td>\n",
       "    </tr>\n",
       "    <tr>\n",
       "      <th>38</th>\n",
       "      <td>1</td>\n",
       "      <td>1</td>\n",
       "      <td>7</td>\n",
       "      <td>1</td>\n",
       "      <td>2020</td>\n",
       "      <td>1</td>\n",
       "      <td>1</td>\n",
       "    </tr>\n",
       "    <tr>\n",
       "      <th>39</th>\n",
       "      <td>1</td>\n",
       "      <td>1</td>\n",
       "      <td>7</td>\n",
       "      <td>1</td>\n",
       "      <td>2020</td>\n",
       "      <td>1</td>\n",
       "      <td>2</td>\n",
       "    </tr>\n",
       "    <tr>\n",
       "      <th>40</th>\n",
       "      <td>1</td>\n",
       "      <td>1</td>\n",
       "      <td>7</td>\n",
       "      <td>1</td>\n",
       "      <td>2020</td>\n",
       "      <td>1</td>\n",
       "      <td>3</td>\n",
       "    </tr>\n",
       "    <tr>\n",
       "      <th>41</th>\n",
       "      <td>1</td>\n",
       "      <td>1</td>\n",
       "      <td>7</td>\n",
       "      <td>1</td>\n",
       "      <td>2020</td>\n",
       "      <td>1</td>\n",
       "      <td>4</td>\n",
       "    </tr>\n",
       "    <tr>\n",
       "      <th>42</th>\n",
       "      <td>1</td>\n",
       "      <td>1</td>\n",
       "      <td>7</td>\n",
       "      <td>1</td>\n",
       "      <td>2020</td>\n",
       "      <td>1</td>\n",
       "      <td>5</td>\n",
       "    </tr>\n",
       "    <tr>\n",
       "      <th>43</th>\n",
       "      <td>1</td>\n",
       "      <td>1</td>\n",
       "      <td>7</td>\n",
       "      <td>1</td>\n",
       "      <td>2020</td>\n",
       "      <td>1</td>\n",
       "      <td>6</td>\n",
       "    </tr>\n",
       "  </tbody>\n",
       "</table>\n",
       "</div>"
      ],
      "text/plain": [
       "    Sex  Age  Height  Weight  Year  Season  Sport\n",
       "0     1    1       7       1  2020       0      0\n",
       "1     1    1       7       1  2020       0      1\n",
       "2     1    1       7       1  2020       0      2\n",
       "3     1    1       7       1  2020       0      3\n",
       "4     1    1       7       1  2020       0      4\n",
       "5     1    1       7       1  2020       0      5\n",
       "6     1    1       7       1  2020       0      6\n",
       "37    1    1       7       1  2020       1      0\n",
       "38    1    1       7       1  2020       1      1\n",
       "39    1    1       7       1  2020       1      2\n",
       "40    1    1       7       1  2020       1      3\n",
       "41    1    1       7       1  2020       1      4\n",
       "42    1    1       7       1  2020       1      5\n",
       "43    1    1       7       1  2020       1      6"
      ]
     },
     "execution_count": 119,
     "metadata": {},
     "output_type": "execute_result"
    }
   ],
   "source": [
    "predicted_indices = [0,1,2,3,4,5,6,37,38,39,40,41,42,43]\n",
    "sports_X = my_X.loc[predicted_indices,:]\n",
    "sports_X"
   ]
  },
  {
   "cell_type": "code",
   "execution_count": 120,
   "metadata": {},
   "outputs": [
    {
     "data": {
      "text/plain": [
       "array([0, 1, 2, 3, 4, 5, 6], dtype=int64)"
      ]
     },
     "execution_count": 120,
     "metadata": {},
     "output_type": "execute_result"
    }
   ],
   "source": [
    "sports_X['Sport'].unique()"
   ]
  },
  {
   "cell_type": "code",
   "execution_count": 121,
   "metadata": {},
   "outputs": [
    {
     "data": {
      "text/plain": [
       "array(['Alpine Skiing', 'Archery', 'Athletics', 'Badminton', 'Basketball',\n",
       "       'Biathlon', 'Bobsleigh'], dtype=object)"
      ]
     },
     "execution_count": 121,
     "metadata": {},
     "output_type": "execute_result"
    }
   ],
   "source": [
    "le.inverse_transform(sports_X['Sport'].unique())"
   ]
  },
  {
   "cell_type": "markdown",
   "metadata": {},
   "source": [
    "Surprisingly, half of these sports, particularly basketball, are ones that I enjoy.<br/>\n",
    "Who knows, perhaps one day I'll win an Olympic medal..."
   ]
  }
 ],
 "metadata": {
  "kernelspec": {
   "display_name": "Python 3",
   "language": "python",
   "name": "python3"
  },
  "language_info": {
   "codemirror_mode": {
    "name": "ipython",
    "version": 3
   },
   "file_extension": ".py",
   "mimetype": "text/x-python",
   "name": "python",
   "nbconvert_exporter": "python",
   "pygments_lexer": "ipython3",
   "version": "3.8.10"
  }
 },
 "nbformat": 4,
 "nbformat_minor": 4
}
